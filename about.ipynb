{
  "cells": [
    {
      "cell_type": "raw",
      "metadata": {},
      "source": [
        "---\n",
        "  title: \"**Lecture Notes and Handouts**\"\n",
        "  listing:\n",
        "   contents:\n",
        "    - \"fin-mgmt.qmd\"\n",
        "    - \"fin-strat.qmd\"\n",
        "---"
      ],
      "id": "e1d3ee59"
    },
    {
      "cell_type": "markdown",
      "metadata": {},
      "source": [
        "---\n",
        "\n",
        "```{css, echo = FALSE}\n",
        ".justify {\n",
        "  text-align: justify !important\n",
        "}\n",
        "```\n",
        "\n",
        "::: {.justify}\n",
        "\n",
        "Within this section, you'll find an organized repository containing my lecture notes from FGV-EAESP, technical handouts, and illustrative code samples. Most, if not all, of these resources extensively leverage [Quarto](www.quarto.org), an open-source scientific and technical publishing system that supports *R*, *Python*, *Julia*, and *Observable*. Quarto offers a seamless and scalable solution for sharing technical content, encompassing a blend of plain text and executable code, being applicable to static document formats like .pdf files and dynamic, interactive presentations facilitated by [Reveal JS](https://revealjs.com/).\n",
        "\n",
        "For comprehensive guidance on harnessing Quarto for presentations and technical content in a standardized and comprehensive manner, please refer to the official [reference](https://quarto.org/docs/reference/) material.\n",
        " \n",
        ":::"
      ],
      "id": "7887fa37"
    }
  ],
  "metadata": {
    "kernelspec": {
      "name": "python3",
      "language": "python",
      "display_name": "Python 3 (ipykernel)"
    }
  },
  "nbformat": 4,
  "nbformat_minor": 5
}