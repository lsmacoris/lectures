{
  "cells": [
    {
      "cell_type": "raw",
      "metadata": {},
      "source": [
        "---\n",
        "title: \"Financial Management\"\n",
        "image: 'fin-mgmt/thumbnail.jpg'\n",
        "listing:\n",
        " type: table\n",
        " contents: fin-mgmt\n",
        " fields: [title, reading-time]\n",
        "---"
      ],
      "id": "86a78a77"
    },
    {
      "cell_type": "markdown",
      "metadata": {},
      "source": [
        "```{css, echo = FALSE}\n",
        ".justify {\n",
        "  text-align: justify !important\n",
        "}\n",
        "```\n",
        "\n",
        "\n",
        "## **About the course**\n",
        "\n",
        "\n",
        "::: {.justify}\n",
        "\n",
        "The Financial Administration course is the second training program in the financial field within the EAESP Business Administration undergradute track.\n",
        "\n",
        "It proposes to present, in a context of risk $\\times$ return and from a long-term perspective, the fundamental decisions of Corporate Finance: *investment*, *financing*, and shareholder *compensation*. It particularly addresses the fundamentals of capital investment analysis, working capital management, economic-financial analysis of companies, cash generation capacity and its influence on the objective of maximizing shareholder wealth. These approaches will consider the fundamental factors of ESG (Environmental, Social and Corporate Governance) policies and their consequences for companies.\n",
        "\n",
        ":::"
      ],
      "id": "f4a89e43"
    }
  ],
  "metadata": {
    "kernelspec": {
      "name": "python3",
      "language": "python",
      "display_name": "Python 3 (ipykernel)"
    }
  },
  "nbformat": 4,
  "nbformat_minor": 5
}